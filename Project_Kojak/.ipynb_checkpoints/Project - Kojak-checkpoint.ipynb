{
 "cells": [
  {
   "cell_type": "code",
   "execution_count": 30,
   "metadata": {
    "collapsed": false
   },
   "outputs": [],
   "source": [
    "# General Imports\n",
    "import re\n",
    "import time\n",
    "from time import sleep\n",
    "from pprint import pprint\n",
    "from datetime import datetime\n",
    "\n",
    "# Data processing/Visuals\n",
    "import numpy as np\n",
    "import pandas as pd\n",
    "import matplotlib.pyplot as plt\n",
    "import seaborn as sns\n",
    "\n",
    "# Scraping\n",
    "import requests\n",
    "from bs4 import BeautifulSoup\n",
    "\n",
    "# NLP\n",
    "from sklearn.naive_bayes import GaussianNB\n",
    "from sklearn.feature_extraction.text import CountVectorizer\n",
    "from sklearn import metrics\n",
    "import nltk\n",
    "from nltk.corpus import stopwords\n",
    "from sklearn.feature_extraction.text import CountVectorizer\n",
    "from sklearn.feature_extraction.text import TfidfTransformer\n",
    "from sklearn.feature_extraction.text import TfidfVectorizer\n",
    "\n",
    "#Extra\n",
    "from ipywidgets import FloatProgress\n",
    "from IPython.display import display\n",
    "\n",
    "%matplotlib inline\n",
    "# pd.set_option('display.max_colwidth', -1)"
   ]
  },
  {
   "cell_type": "markdown",
   "metadata": {},
   "source": [
    "## Problem Statement\n",
    "\n",
    "Classified ads from Backpage.com using Naive Bayes to determine potential human trafficking victims. Built a D3 interactive map to assist law enforcement."
   ]
  },
  {
   "cell_type": "code",
   "execution_count": null,
   "metadata": {
    "collapsed": false
   },
   "outputs": [],
   "source": [
    "##Testing URL break\n",
    "url = 'http://sfbay.backpage.com/FemaleEscorts/?page=90'\n",
    "response = requests.get(url)\n",
    "page = response.text\n",
    "print(\"Status Code is:\", response.status_code)"
   ]
  },
  {
   "cell_type": "markdown",
   "metadata": {},
   "source": [
    "### Pagination Code"
   ]
  },
  {
   "cell_type": "code",
   "execution_count": null,
   "metadata": {
    "collapsed": false,
    "scrolled": true
   },
   "outputs": [],
   "source": [
    "stop_pagination = True\n",
    "page_num = 1\n",
    "\n",
    "while stop_pagination and page_num < 100:\n",
    "    try:\n",
    "        url = 'http://sfbay.backpage.com/FemaleEscorts/?page={}'.format(page_num)\n",
    "        response = requests.get(url)\n",
    "        page = response.text\n",
    "        soup = BeautifulSoup(page, 'lxml')\n",
    "        answer = soup.find('b', class_='').text\n",
    "        print(page_num)\n",
    "        stop_pagination = False\n",
    "    except:\n",
    "        print('Not the end yet')\n",
    "        page_num+=1\n",
    "    random_num = (np.random.randint(5,10))\n",
    "    sleep(0+random_num)\n",
    "\n",
    "# if answer == 'No matches found.':\n",
    "#     print('Worked')\n",
    "# else:\n",
    "#     print('Failed')"
   ]
  },
  {
   "cell_type": "markdown",
   "metadata": {},
   "source": [
    "## Pulling All URLS"
   ]
  },
  {
   "cell_type": "code",
   "execution_count": null,
   "metadata": {
    "collapsed": false
   },
   "outputs": [],
   "source": [
    "url = 'http://sfbay.backpage.com/FemaleEscorts/?layout=date'\n",
    "response = requests.get(url)\n",
    "page = response.text\n",
    "print(\"Status Code is:\", response.status_code)"
   ]
  },
  {
   "cell_type": "code",
   "execution_count": null,
   "metadata": {
    "collapsed": false
   },
   "outputs": [],
   "source": [
    "re_escortads = re.compile(\"^cat\")\n",
    "\n",
    "all_ad_info = []\n",
    "f = FloatProgress(min=0, max=9)\n",
    "display(f)\n",
    "\n",
    "for num in range(1,3):\n",
    "    if num != 1:\n",
    "        url = 'http://sfbay.backpage.com/FemaleEscorts/?layout=date&page={}'.format(num)\n",
    "    else:\n",
    "        url = 'http://sfbay.backpage.com/FemaleEscorts/?layout=date'\n",
    "    \n",
    "    response = requests.get(url)\n",
    "    page = response.text\n",
    "    soup = BeautifulSoup(page, 'lxml')\n",
    "\n",
    "    ads = soup.find_all(class_=re_escortads)\n",
    "\n",
    "    for ad in ads:\n",
    "        find_url = ad.find('a')\n",
    "        find_location = ad.find('span', class_='resultsRegionLabel')\n",
    "\n",
    "        url = find_url['href']\n",
    "        title = find_url.text    \n",
    "        all_ad_info.append([url])\n",
    "        \n",
    "    f.value = num\n",
    "    random_num = (np.random.randint(0,2))\n",
    "    sleep(0+random_num)\n",
    "    \n",
    "url_title_df = pd.DataFrame(all_ad_info, columns=['URL'])\n",
    "print(\"All done!\")"
   ]
  },
  {
   "cell_type": "code",
   "execution_count": null,
   "metadata": {
    "collapsed": true
   },
   "outputs": [],
   "source": [
    "url_title_df"
   ]
  },
  {
   "cell_type": "code",
   "execution_count": null,
   "metadata": {
    "collapsed": false
   },
   "outputs": [],
   "source": [
    "# Developing a Small Test Set\n",
    "small_test_df = url_title_df.head(100).copy()\n",
    "small_test_df"
   ]
  },
  {
   "cell_type": "markdown",
   "metadata": {},
   "source": [
    "## Pulling Information From Ads"
   ]
  },
  {
   "cell_type": "code",
   "execution_count": null,
   "metadata": {
    "collapsed": false
   },
   "outputs": [],
   "source": [
    "# Tesing A Small Set\n",
    "url_title_df = small_test_df\n",
    "\n",
    "all_details = []\n",
    "f1 = FloatProgress(min=0, max=len(url_title_df)-1)\n",
    "display(f1)\n",
    "\n",
    "for url in url_title_df['URL']:\n",
    "    try:\n",
    "        page_url = url\n",
    "        response = requests.get(page_url)\n",
    "        page = response.text\n",
    "        soup = BeautifulSoup(page, 'lxml') \n",
    "\n",
    "        # Post Title\n",
    "        find_title = soup.find('title')\n",
    "        title = find_title.text\n",
    "\n",
    "        # Post Date\n",
    "        find_post_date = soup.find(\"div\", class_=\"adInfo\")\n",
    "        date = find_post_date.text.strip()\n",
    "        \n",
    "        # Post Description\n",
    "        find_desc = soup.find(\"div\",class_=\"postingBody\")\n",
    "        desc = find_desc.text.strip()\n",
    "\n",
    "        # Poster's Age\n",
    "        find_age = soup.find(\"div\",class_=\"posting\").find(class_=\"metaInfoDisplay\")\n",
    "        age = find_age.text.strip()\n",
    "\n",
    "        # Poster's Location\n",
    "        find_location = soup.find(\"div\",class_=\"posting\").find(style=\"padding-left:2em;\")\n",
    "        location = find_location.text.strip()[1:]\n",
    "        \n",
    "        all_details.append([url,title,date,desc,age,location])\n",
    "#         all_details.append([page_url,url,title])\n",
    "        \n",
    "    except:\n",
    "        print(\"Failed for:\", page_url)\n",
    "        \n",
    "    f1.value +=1\n",
    "    random_num = (np.random.randint(3,5))\n",
    "    sleep(0+random_num)"
   ]
  },
  {
   "cell_type": "code",
   "execution_count": 18,
   "metadata": {
    "collapsed": false
   },
   "outputs": [
    {
     "ename": "NameError",
     "evalue": "name 'all_details' is not defined",
     "output_type": "error",
     "traceback": [
      "\u001b[0;31m---------------------------------------------------------------------------\u001b[0m",
      "\u001b[0;31mNameError\u001b[0m                                 Traceback (most recent call last)",
      "\u001b[0;32m<ipython-input-18-955f19c7f18f>\u001b[0m in \u001b[0;36m<module>\u001b[0;34m()\u001b[0m\n\u001b[0;32m----> 1\u001b[0;31m \u001b[0mall_details_df\u001b[0m \u001b[0;34m=\u001b[0m \u001b[0mpd\u001b[0m\u001b[0;34m.\u001b[0m\u001b[0mDataFrame\u001b[0m\u001b[0;34m(\u001b[0m\u001b[0mall_details\u001b[0m\u001b[0;34m)\u001b[0m\u001b[0;34m\u001b[0m\u001b[0m\n\u001b[0m\u001b[1;32m      2\u001b[0m \u001b[0mall_details_df\u001b[0m\u001b[0;34m.\u001b[0m\u001b[0mhead\u001b[0m\u001b[0;34m(\u001b[0m\u001b[0;36m1\u001b[0m\u001b[0;34m)\u001b[0m\u001b[0;34m\u001b[0m\u001b[0m\n",
      "\u001b[0;31mNameError\u001b[0m: name 'all_details' is not defined"
     ]
    }
   ],
   "source": [
    "all_details_df = pd.DataFrame(all_details)\n",
    "all_details_df.head(1)"
   ]
  },
  {
   "cell_type": "code",
   "execution_count": 10,
   "metadata": {
    "collapsed": false
   },
   "outputs": [],
   "source": [
    "len(all_details_df)\n",
    "all_details_df.to_csv('all_details_df_test.csv',index_col=False)"
   ]
  },
  {
   "cell_type": "markdown",
   "metadata": {},
   "source": [
    "## Start Here if the Notebook Reloaded"
   ]
  },
  {
   "cell_type": "code",
   "execution_count": 25,
   "metadata": {
    "collapsed": false
   },
   "outputs": [
    {
     "data": {
      "text/html": [
       "<div>\n",
       "<table border=\"1\" class=\"dataframe\">\n",
       "  <thead>\n",
       "    <tr style=\"text-align: right;\">\n",
       "      <th></th>\n",
       "      <th>Unnamed: 0</th>\n",
       "      <th>0</th>\n",
       "      <th>1</th>\n",
       "      <th>2</th>\n",
       "      <th>3</th>\n",
       "      <th>4</th>\n",
       "      <th>5</th>\n",
       "    </tr>\n",
       "  </thead>\n",
       "  <tbody>\n",
       "    <tr>\n",
       "      <th>0</th>\n",
       "      <td>0</td>\n",
       "      <td>0</td>\n",
       "      <td>💋Aria Pretty Petite Blonde ❤️Real &amp; Reliable 💋...</td>\n",
       "      <td>Posted:\\r\\n    Wednesday, September 7, 2016 9:...</td>\n",
       "      <td>I'm a stunning 28 year old who is NEW to this ...</td>\n",
       "      <td>Poster's age: 28</td>\n",
       "      <td>Location:\\r\\n        Brentwood, East Bay, Out...</td>\n",
       "    </tr>\n",
       "    <tr>\n",
       "      <th>1</th>\n",
       "      <td>1</td>\n",
       "      <td>1</td>\n",
       "      <td>❤️✨👑 SATiSFACTiON GUARANTEED 💎 1OO% Real EAST ...</td>\n",
       "      <td>Posted:\\r\\n    Wednesday, September 7, 2016 10...</td>\n",
       "      <td>Hey Gentlemen \\n \\nIt's me Anika , The Real Ea...</td>\n",
       "      <td>Poster's age: 23</td>\n",
       "      <td>Location:\\r\\n        San Jose / South Bay, Su...</td>\n",
       "    </tr>\n",
       "    <tr>\n",
       "      <th>2</th>\n",
       "      <td>2</td>\n",
       "      <td>2</td>\n",
       "      <td>👅💦💦 Out 📞 Calls now SPECIALS all NIGHT!! - SF ...</td>\n",
       "      <td>Posted:\\r\\n    Wednesday, September 7, 2016 9:...</td>\n",
       "      <td>I am providing an un rushed \"All about you\" Pl...</td>\n",
       "      <td>Poster's age: 25</td>\n",
       "      <td>Location:\\r\\n        San Francisco</td>\n",
       "    </tr>\n",
       "    <tr>\n",
       "      <th>3</th>\n",
       "      <td>3</td>\n",
       "      <td>3</td>\n",
       "      <td>💝💝Phone : 415-738-2314💝💝 OUTCALL ONLY(NEW Asia...</td>\n",
       "      <td>Posted:\\r\\n    Wednesday, September 7, 2016 10...</td>\n",
       "      <td>Hi, my name is Diana, 22 yrs, I am a open mind...</td>\n",
       "      <td>Poster's age: 22</td>\n",
       "      <td>Location:\\r\\n        Outcall Only, San Francisco</td>\n",
       "    </tr>\n",
       "    <tr>\n",
       "      <th>4</th>\n",
       "      <td>4</td>\n",
       "      <td>4</td>\n",
       "      <td>💄N E W Upscαℓε Exotic PlayMate💋100% REAL PICTU...</td>\n",
       "      <td>Posted:\\r\\n    Wednesday, September 7, 2016 10...</td>\n",
       "      <td>Hey Baby Im Ready💕\\n💯% REAL &amp; UNRUSHED \\n💗BRIG...</td>\n",
       "      <td>Poster's age: 22</td>\n",
       "      <td>Location:\\r\\n        San Mateo, San Mateo/San...</td>\n",
       "    </tr>\n",
       "    <tr>\n",
       "      <th>5</th>\n",
       "      <td>5</td>\n",
       "      <td>5</td>\n",
       "      <td>🌇🛤🌇🛤🌆🛤🌇HOT SEXY TOBY🌆🌄🌇🏞🌆 TALL  SAMLL 🌆🛣🌅34C🌆🛣...</td>\n",
       "      <td>Posted:\\r\\n    Wednesday, September 7, 2016 10...</td>\n",
       "      <td>MY NAME IS MOON. CAME TO THE SEOUL,SOUTH KOREA...</td>\n",
       "      <td>Poster's age: 22</td>\n",
       "      <td>Location:\\r\\n        City of San Jose, San Jo...</td>\n",
       "    </tr>\n",
       "    <tr>\n",
       "      <th>6</th>\n",
       "      <td>6</td>\n",
       "      <td>6</td>\n",
       "      <td>💋💦Exotic🌹Sweet💦Mixed &amp;🌹Discreet💦💋OUT-CALLS ONL...</td>\n",
       "      <td>Posted:\\r\\n    Wednesday, September 7, 2016 9:...</td>\n",
       "      <td>Hello Gentlemen, I'm Ashley 💎 and I am the SEX...</td>\n",
       "      <td>Poster's age: 25</td>\n",
       "      <td>Location:\\r\\n        East Bay, Pleasanton, Pl...</td>\n",
       "    </tr>\n",
       "    <tr>\n",
       "      <th>7</th>\n",
       "      <td>7</td>\n",
       "      <td>7</td>\n",
       "      <td>🎀🎀☎️ 925-727-7873 🍭🍭  IN &amp; OUTCALLS 🌹🌹🌹 A hot ...</td>\n",
       "      <td>Posted:\\r\\n    Wednesday, September 7, 2016 9:...</td>\n",
       "      <td>CALL 925- 727- 7873 No text \\n\\nMy Name Is Ann...</td>\n",
       "      <td>Poster's age: 29</td>\n",
       "      <td>Location:\\r\\n        East Bay, Pleasanton, Sa...</td>\n",
       "    </tr>\n",
       "    <tr>\n",
       "      <th>8</th>\n",
       "      <td>8</td>\n",
       "      <td>8</td>\n",
       "      <td>VIP SERVICE🔴🔴🔴🔴Petite🔴🔴🔴🔴🔴 🔴 HAWAIIAN 🔴🔴🔴 🔴 SE...</td>\n",
       "      <td>Posted:\\r\\n    Wednesday, September 7, 2016 9:...</td>\n",
       "      <td>Hey there👋 \\n\\nLooking👀 to have fun✨ with a 🙆y...</td>\n",
       "      <td>Poster's age: 19</td>\n",
       "      <td>Location:\\r\\n        San Francisco, San Franc...</td>\n",
       "    </tr>\n",
       "    <tr>\n",
       "      <th>9</th>\n",
       "      <td>9</td>\n",
       "      <td>9</td>\n",
       "      <td>💋100%TheBest🌟🌟 Caramel   treat🌟🌟NEW in TOWN - ...</td>\n",
       "      <td>Posted:\\r\\n    Wednesday, September 7, 2016 9:...</td>\n",
       "      <td>Looking for the Perfect Playdate to take a loa...</td>\n",
       "      <td>Poster's age: 19</td>\n",
       "      <td>Location:\\r\\n        East Bay, Incall Special...</td>\n",
       "    </tr>\n",
       "  </tbody>\n",
       "</table>\n",
       "</div>"
      ],
      "text/plain": [
       "   Unnamed: 0  0                                                  1  \\\n",
       "0           0  0  💋Aria Pretty Petite Blonde ❤️Real & Reliable 💋...   \n",
       "1           1  1  ❤️✨👑 SATiSFACTiON GUARANTEED 💎 1OO% Real EAST ...   \n",
       "2           2  2  👅💦💦 Out 📞 Calls now SPECIALS all NIGHT!! - SF ...   \n",
       "3           3  3  💝💝Phone : 415-738-2314💝💝 OUTCALL ONLY(NEW Asia...   \n",
       "4           4  4  💄N E W Upscαℓε Exotic PlayMate💋100% REAL PICTU...   \n",
       "5           5  5  🌇🛤🌇🛤🌆🛤🌇HOT SEXY TOBY🌆🌄🌇🏞🌆 TALL  SAMLL 🌆🛣🌅34C🌆🛣...   \n",
       "6           6  6  💋💦Exotic🌹Sweet💦Mixed &🌹Discreet💦💋OUT-CALLS ONL...   \n",
       "7           7  7  🎀🎀☎️ 925-727-7873 🍭🍭  IN & OUTCALLS 🌹🌹🌹 A hot ...   \n",
       "8           8  8  VIP SERVICE🔴🔴🔴🔴Petite🔴🔴🔴🔴🔴 🔴 HAWAIIAN 🔴🔴🔴 🔴 SE...   \n",
       "9           9  9  💋100%TheBest🌟🌟 Caramel   treat🌟🌟NEW in TOWN - ...   \n",
       "\n",
       "                                                   2  \\\n",
       "0  Posted:\\r\\n    Wednesday, September 7, 2016 9:...   \n",
       "1  Posted:\\r\\n    Wednesday, September 7, 2016 10...   \n",
       "2  Posted:\\r\\n    Wednesday, September 7, 2016 9:...   \n",
       "3  Posted:\\r\\n    Wednesday, September 7, 2016 10...   \n",
       "4  Posted:\\r\\n    Wednesday, September 7, 2016 10...   \n",
       "5  Posted:\\r\\n    Wednesday, September 7, 2016 10...   \n",
       "6  Posted:\\r\\n    Wednesday, September 7, 2016 9:...   \n",
       "7  Posted:\\r\\n    Wednesday, September 7, 2016 9:...   \n",
       "8  Posted:\\r\\n    Wednesday, September 7, 2016 9:...   \n",
       "9  Posted:\\r\\n    Wednesday, September 7, 2016 9:...   \n",
       "\n",
       "                                                   3                 4  \\\n",
       "0  I'm a stunning 28 year old who is NEW to this ...  Poster's age: 28   \n",
       "1  Hey Gentlemen \\n \\nIt's me Anika , The Real Ea...  Poster's age: 23   \n",
       "2  I am providing an un rushed \"All about you\" Pl...  Poster's age: 25   \n",
       "3  Hi, my name is Diana, 22 yrs, I am a open mind...  Poster's age: 22   \n",
       "4  Hey Baby Im Ready💕\\n💯% REAL & UNRUSHED \\n💗BRIG...  Poster's age: 22   \n",
       "5  MY NAME IS MOON. CAME TO THE SEOUL,SOUTH KOREA...  Poster's age: 22   \n",
       "6  Hello Gentlemen, I'm Ashley 💎 and I am the SEX...  Poster's age: 25   \n",
       "7  CALL 925- 727- 7873 No text \\n\\nMy Name Is Ann...  Poster's age: 29   \n",
       "8  Hey there👋 \\n\\nLooking👀 to have fun✨ with a 🙆y...  Poster's age: 19   \n",
       "9  Looking for the Perfect Playdate to take a loa...  Poster's age: 19   \n",
       "\n",
       "                                                   5  \n",
       "0   Location:\\r\\n        Brentwood, East Bay, Out...  \n",
       "1   Location:\\r\\n        San Jose / South Bay, Su...  \n",
       "2                 Location:\\r\\n        San Francisco  \n",
       "3   Location:\\r\\n        Outcall Only, San Francisco  \n",
       "4   Location:\\r\\n        San Mateo, San Mateo/San...  \n",
       "5   Location:\\r\\n        City of San Jose, San Jo...  \n",
       "6   Location:\\r\\n        East Bay, Pleasanton, Pl...  \n",
       "7   Location:\\r\\n        East Bay, Pleasanton, Sa...  \n",
       "8   Location:\\r\\n        San Francisco, San Franc...  \n",
       "9   Location:\\r\\n        East Bay, Incall Special...  "
      ]
     },
     "execution_count": 25,
     "metadata": {},
     "output_type": "execute_result"
    }
   ],
   "source": [
    "# Converting from csv to dataframe\n",
    "all_details_df = pd.read_csv('all_details_df.csv')\n",
    "all_details_df.head(10)"
   ]
  },
  {
   "cell_type": "markdown",
   "metadata": {},
   "source": [
    "## Data Cleaning\n",
    "\n",
    "- Remove Bad Columns\n",
    "- Reindex\n",
    "- Name Columns\n",
    "- Take out white spaces and \"\\r\\n\"\n",
    "- Replace the Posted by, Posters Age, etc. language"
   ]
  },
  {
   "cell_type": "code",
   "execution_count": 16,
   "metadata": {
    "collapsed": false
   },
   "outputs": [
    {
     "ename": "ValueError",
     "evalue": "Length mismatch: Expected axis has 5 elements, new values have 6 elements",
     "output_type": "error",
     "traceback": [
      "\u001b[0;31m---------------------------------------------------------------------------\u001b[0m",
      "\u001b[0;31mValueError\u001b[0m                                Traceback (most recent call last)",
      "\u001b[0;32m<ipython-input-16-281fcc788700>\u001b[0m in \u001b[0;36m<module>\u001b[0;34m()\u001b[0m\n\u001b[1;32m      1\u001b[0m \u001b[0mall_details_df\u001b[0m\u001b[0;34m.\u001b[0m\u001b[0mdrop\u001b[0m\u001b[0;34m(\u001b[0m\u001b[0;34m'0'\u001b[0m\u001b[0;34m,\u001b[0m \u001b[0maxis\u001b[0m\u001b[0;34m=\u001b[0m\u001b[0;36m1\u001b[0m\u001b[0;34m,\u001b[0m \u001b[0minplace\u001b[0m\u001b[0;34m=\u001b[0m\u001b[0;32mTrue\u001b[0m\u001b[0;34m)\u001b[0m\u001b[0;34m\u001b[0m\u001b[0m\n\u001b[1;32m      2\u001b[0m \u001b[0mall_details_df\u001b[0m\u001b[0;34m.\u001b[0m\u001b[0mdrop\u001b[0m\u001b[0;34m(\u001b[0m\u001b[0;34m\"Unnamed: 0\"\u001b[0m\u001b[0;34m,\u001b[0m \u001b[0maxis\u001b[0m\u001b[0;34m=\u001b[0m\u001b[0;36m1\u001b[0m\u001b[0;34m,\u001b[0m \u001b[0minplace\u001b[0m\u001b[0;34m=\u001b[0m\u001b[0;32mTrue\u001b[0m\u001b[0;34m)\u001b[0m\u001b[0;34m\u001b[0m\u001b[0m\n\u001b[0;32m----> 3\u001b[0;31m \u001b[0mall_details_df\u001b[0m\u001b[0;34m.\u001b[0m\u001b[0mcolumns\u001b[0m \u001b[0;34m=\u001b[0m \u001b[0;34m[\u001b[0m\u001b[0;34m'URL'\u001b[0m\u001b[0;34m,\u001b[0m\u001b[0;34m'Title'\u001b[0m\u001b[0;34m,\u001b[0m\u001b[0;34m'PostDate'\u001b[0m\u001b[0;34m,\u001b[0m\u001b[0;34m'Desc'\u001b[0m\u001b[0;34m,\u001b[0m\u001b[0;34m'Age'\u001b[0m\u001b[0;34m,\u001b[0m\u001b[0;34m'Location'\u001b[0m\u001b[0;34m]\u001b[0m\u001b[0;34m\u001b[0m\u001b[0m\n\u001b[0m\u001b[1;32m      4\u001b[0m \u001b[0;34m\u001b[0m\u001b[0m\n\u001b[1;32m      5\u001b[0m \u001b[0;34m\u001b[0m\u001b[0m\n",
      "\u001b[0;32m/Users/Hayw1re/Applications/anaconda3/lib/python3.5/site-packages/pandas/core/generic.py\u001b[0m in \u001b[0;36m__setattr__\u001b[0;34m(self, name, value)\u001b[0m\n\u001b[1;32m   2680\u001b[0m         \u001b[0;32mtry\u001b[0m\u001b[0;34m:\u001b[0m\u001b[0;34m\u001b[0m\u001b[0m\n\u001b[1;32m   2681\u001b[0m             \u001b[0mobject\u001b[0m\u001b[0;34m.\u001b[0m\u001b[0m__getattribute__\u001b[0m\u001b[0;34m(\u001b[0m\u001b[0mself\u001b[0m\u001b[0;34m,\u001b[0m \u001b[0mname\u001b[0m\u001b[0;34m)\u001b[0m\u001b[0;34m\u001b[0m\u001b[0m\n\u001b[0;32m-> 2682\u001b[0;31m             \u001b[0;32mreturn\u001b[0m \u001b[0mobject\u001b[0m\u001b[0;34m.\u001b[0m\u001b[0m__setattr__\u001b[0m\u001b[0;34m(\u001b[0m\u001b[0mself\u001b[0m\u001b[0;34m,\u001b[0m \u001b[0mname\u001b[0m\u001b[0;34m,\u001b[0m \u001b[0mvalue\u001b[0m\u001b[0;34m)\u001b[0m\u001b[0;34m\u001b[0m\u001b[0m\n\u001b[0m\u001b[1;32m   2683\u001b[0m         \u001b[0;32mexcept\u001b[0m \u001b[0mAttributeError\u001b[0m\u001b[0;34m:\u001b[0m\u001b[0;34m\u001b[0m\u001b[0m\n\u001b[1;32m   2684\u001b[0m             \u001b[0;32mpass\u001b[0m\u001b[0;34m\u001b[0m\u001b[0m\n",
      "\u001b[0;32mpandas/src/properties.pyx\u001b[0m in \u001b[0;36mpandas.lib.AxisProperty.__set__ (pandas/lib.c:45018)\u001b[0;34m()\u001b[0m\n",
      "\u001b[0;32m/Users/Hayw1re/Applications/anaconda3/lib/python3.5/site-packages/pandas/core/generic.py\u001b[0m in \u001b[0;36m_set_axis\u001b[0;34m(self, axis, labels)\u001b[0m\n\u001b[1;32m    423\u001b[0m \u001b[0;34m\u001b[0m\u001b[0m\n\u001b[1;32m    424\u001b[0m     \u001b[0;32mdef\u001b[0m \u001b[0m_set_axis\u001b[0m\u001b[0;34m(\u001b[0m\u001b[0mself\u001b[0m\u001b[0;34m,\u001b[0m \u001b[0maxis\u001b[0m\u001b[0;34m,\u001b[0m \u001b[0mlabels\u001b[0m\u001b[0;34m)\u001b[0m\u001b[0;34m:\u001b[0m\u001b[0;34m\u001b[0m\u001b[0m\n\u001b[0;32m--> 425\u001b[0;31m         \u001b[0mself\u001b[0m\u001b[0;34m.\u001b[0m\u001b[0m_data\u001b[0m\u001b[0;34m.\u001b[0m\u001b[0mset_axis\u001b[0m\u001b[0;34m(\u001b[0m\u001b[0maxis\u001b[0m\u001b[0;34m,\u001b[0m \u001b[0mlabels\u001b[0m\u001b[0;34m)\u001b[0m\u001b[0;34m\u001b[0m\u001b[0m\n\u001b[0m\u001b[1;32m    426\u001b[0m         \u001b[0mself\u001b[0m\u001b[0;34m.\u001b[0m\u001b[0m_clear_item_cache\u001b[0m\u001b[0;34m(\u001b[0m\u001b[0;34m)\u001b[0m\u001b[0;34m\u001b[0m\u001b[0m\n\u001b[1;32m    427\u001b[0m \u001b[0;34m\u001b[0m\u001b[0m\n",
      "\u001b[0;32m/Users/Hayw1re/Applications/anaconda3/lib/python3.5/site-packages/pandas/core/internals.py\u001b[0m in \u001b[0;36mset_axis\u001b[0;34m(self, axis, new_labels)\u001b[0m\n\u001b[1;32m   2576\u001b[0m             raise ValueError('Length mismatch: Expected axis has %d elements, '\n\u001b[1;32m   2577\u001b[0m                              \u001b[0;34m'new values have %d elements'\u001b[0m \u001b[0;34m%\u001b[0m\u001b[0;34m\u001b[0m\u001b[0m\n\u001b[0;32m-> 2578\u001b[0;31m                              (old_len, new_len))\n\u001b[0m\u001b[1;32m   2579\u001b[0m \u001b[0;34m\u001b[0m\u001b[0m\n\u001b[1;32m   2580\u001b[0m         \u001b[0mself\u001b[0m\u001b[0;34m.\u001b[0m\u001b[0maxes\u001b[0m\u001b[0;34m[\u001b[0m\u001b[0maxis\u001b[0m\u001b[0;34m]\u001b[0m \u001b[0;34m=\u001b[0m \u001b[0mnew_labels\u001b[0m\u001b[0;34m\u001b[0m\u001b[0m\n",
      "\u001b[0;31mValueError\u001b[0m: Length mismatch: Expected axis has 5 elements, new values have 6 elements"
     ]
    }
   ],
   "source": [
    "all_details_df.drop('0', axis=1, inplace=True)\n",
    "all_details_df.drop(\"Unnamed: 0\", axis=1, inplace=True)\n",
    "all_details_df.columns = ['URL','Title','PostDate','Desc','Age','Location']\n",
    "\n",
    "\n",
    "for col_name in [col for col in all_details_df.columns]:\n",
    "    all_details_df[col_name] = all_details_df[col_name].str.strip()\n",
    "    all_details_df[col_name] = all_details_df[col_name].str.replace(\"\\r\",\"\")\n",
    "    all_details_df[col_name] = all_details_df[col_name].str.replace(\"\\n\",\"\")\n",
    "    \n",
    "# Changes to Title\n",
    "all_details_df['Title'] = all_details_df['Title'].str.replace(\" - SF Bay escorts - backpage.com\",\"\")\n",
    "\n",
    "# Changes to PostDate\n",
    "all_details_df['PostDate'] = all_details_df['PostDate'].str.replace(\"Posted: \",\"\")\n",
    "\n",
    "# Changes to Age\n",
    "all_details_df['Age'] = all_details_df['Age'].str.replace(\"Poster's age: \",\"\")\n",
    "all_details_df['Age'] = all_details_df['Age'].astype(int)\n",
    "\n",
    "# Changes to Location\n",
    "all_details_df['Location'] = all_details_df['Location'].str.replace(\"Location: \",\"\")\n",
    "\n",
    "\n",
    "all_details_df.reset_index(inplace=True)\n",
    "all_details_df.drop(\"index\", axis=1, inplace=True)"
   ]
  },
  {
   "cell_type": "code",
   "execution_count": 31,
   "metadata": {
    "collapsed": false
   },
   "outputs": [
    {
     "data": {
      "text/plain": [
       "datetime.datetime(2016, 9, 7, 9, 23)"
      ]
     },
     "execution_count": 31,
     "metadata": {},
     "output_type": "execute_result"
    }
   ],
   "source": [
    "def convert_time(time_string):\n",
    "    try:\n",
    "        time_string = time_string.strip()\n",
    "        return datetime.strptime(time_string, '%A, %B %d, %Y %H:%M %p')\n",
    "    except:\n",
    "        print (\"failed at :\",time_string)\n",
    "        \n",
    "convert_time('    Wednesday, September 7, 2016 9:23 PM')"
   ]
  },
  {
   "cell_type": "code",
   "execution_count": null,
   "metadata": {
    "collapsed": true
   },
   "outputs": [],
   "source": [
    "all_details_df['PostDate'] = all_details_df['PostDate'].apply(lambda x: convert_time(x))"
   ]
  },
  {
   "cell_type": "code",
   "execution_count": null,
   "metadata": {
    "collapsed": false
   },
   "outputs": [],
   "source": [
    "all_details_df.sort_values(by='Age')"
   ]
  },
  {
   "cell_type": "markdown",
   "metadata": {
    "collapsed": true
   },
   "source": [
    "## Exploratory Data Analysis"
   ]
  },
  {
   "cell_type": "code",
   "execution_count": null,
   "metadata": {
    "collapsed": false
   },
   "outputs": [],
   "source": [
    "all_details_df.sort_values(by='Age').tail(10)"
   ]
  },
  {
   "cell_type": "code",
   "execution_count": null,
   "metadata": {
    "collapsed": false
   },
   "outputs": [],
   "source": [
    "eda_plot = all_details_df.groupby(['Age'])['Title'].count()\n",
    "eda_plot = pd.DataFrame(eda_plot)\n",
    "eda_plot.reset_index(inplace=True)\n",
    "eda_plot\n",
    "\n",
    "#Graphing\n",
    "sns.set(style=\"white\")\n",
    "plt.figure(figsize=(15,5))\n",
    "plt.title('Age vs. Counts')\n",
    "plt.ylabel('Count')\n",
    "plt.xlabel('Age')\n",
    "plt.bar(eda_plot['Age'],eda_plot['Title'],)\n",
    "# eda_plot.plot(figsize=(10,5))\n",
    "plt.grid(False)\n",
    "plt.show()\n",
    "\n",
    "# Summary Stats\n",
    "print(\"Youngest Age:\", eda_plot['Age'].min())\n",
    "print(\"Oldest Age:\", eda_plot['Age'].max())\n",
    "print(\"Average Age:\", eda_plot['Age'].mean())"
   ]
  },
  {
   "cell_type": "markdown",
   "metadata": {},
   "source": [
    "## Practicing Naive Bayes"
   ]
  },
  {
   "cell_type": "code",
   "execution_count": 28,
   "metadata": {
    "collapsed": false
   },
   "outputs": [
    {
     "name": "stdout",
     "output_type": "stream",
     "text": [
      "[3 4]\n"
     ]
    }
   ],
   "source": [
    "from sklearn.naive_bayes import GaussianNB\n",
    "import numpy as np\n",
    "\n",
    "#assigning predictor and target variables\n",
    "x = np.array([[-3,7],[1,5], [1,2], [-2,0], [2,3], [-4,0], [-1,1], [1,1], [-2,2], [2,7], [-4,1], [-2,7]])\n",
    "Y = np.array([3, 3, 3, 3, 4, 3, 3, 4, 3, 4, 4, 4])\n",
    "\n",
    "#Create a Gaussian Classifier\n",
    "model = GaussianNB()\n",
    "\n",
    "# Train the model using the training sets \n",
    "model.fit(x, Y)\n",
    "\n",
    "#Predict Output \n",
    "predicted = model.predict([[1,2],[3,4]])\n",
    "print (predicted)"
   ]
  },
  {
   "cell_type": "markdown",
   "metadata": {},
   "source": [
    "## Feature Creation"
   ]
  },
  {
   "cell_type": "markdown",
   "metadata": {},
   "source": [
    "### Finding Out Commonly Used Words"
   ]
  },
  {
   "cell_type": "code",
   "execution_count": null,
   "metadata": {
    "collapsed": true
   },
   "outputs": [],
   "source": [
    "from textblob import TextBlob\n",
    "naive_df.head(10)\n",
    "\n",
    "# file=open(\"large_text_of_comment_only.txt\");\n",
    "# t=file.read();\n",
    "\n",
    "# body_of_text = TextBlob(t).lower()                \n",
    "# body_of_text.word_counts\n",
    "\n",
    "# word_count = []\n",
    "\n",
    "# for word, count in body_of_text.word_counts.items():\n",
    "#     word_count.append([word,count])\n",
    "    \n",
    "# final_word_count = pd.DataFrame(word_count)\n",
    "# final_word_count.columns = ['Word','Count']\n",
    "# #top 100\n",
    "# top_100_used_words = final_word_count.sort_values(by='Count',ascending=False).head(100)"
   ]
  },
  {
   "cell_type": "markdown",
   "metadata": {},
   "source": [
    "## First Model"
   ]
  },
  {
   "cell_type": "code",
   "execution_count": 29,
   "metadata": {
    "collapsed": false
   },
   "outputs": [
    {
     "ename": "KeyError",
     "evalue": "'Desc'",
     "output_type": "error",
     "traceback": [
      "\u001b[0;31m---------------------------------------------------------------------------\u001b[0m",
      "\u001b[0;31mKeyError\u001b[0m                                  Traceback (most recent call last)",
      "\u001b[0;32m/Users/Hayw1re/Applications/anaconda3/lib/python3.5/site-packages/pandas/indexes/base.py\u001b[0m in \u001b[0;36mget_loc\u001b[0;34m(self, key, method, tolerance)\u001b[0m\n\u001b[1;32m   1875\u001b[0m             \u001b[0;32mtry\u001b[0m\u001b[0;34m:\u001b[0m\u001b[0;34m\u001b[0m\u001b[0m\n\u001b[0;32m-> 1876\u001b[0;31m                 \u001b[0;32mreturn\u001b[0m \u001b[0mself\u001b[0m\u001b[0;34m.\u001b[0m\u001b[0m_engine\u001b[0m\u001b[0;34m.\u001b[0m\u001b[0mget_loc\u001b[0m\u001b[0;34m(\u001b[0m\u001b[0mkey\u001b[0m\u001b[0;34m)\u001b[0m\u001b[0;34m\u001b[0m\u001b[0m\n\u001b[0m\u001b[1;32m   1877\u001b[0m             \u001b[0;32mexcept\u001b[0m \u001b[0mKeyError\u001b[0m\u001b[0;34m:\u001b[0m\u001b[0;34m\u001b[0m\u001b[0m\n",
      "\u001b[0;32mpandas/index.pyx\u001b[0m in \u001b[0;36mpandas.index.IndexEngine.get_loc (pandas/index.c:4027)\u001b[0;34m()\u001b[0m\n",
      "\u001b[0;32mpandas/index.pyx\u001b[0m in \u001b[0;36mpandas.index.IndexEngine.get_loc (pandas/index.c:3891)\u001b[0;34m()\u001b[0m\n",
      "\u001b[0;32mpandas/hashtable.pyx\u001b[0m in \u001b[0;36mpandas.hashtable.PyObjectHashTable.get_item (pandas/hashtable.c:12408)\u001b[0;34m()\u001b[0m\n",
      "\u001b[0;32mpandas/hashtable.pyx\u001b[0m in \u001b[0;36mpandas.hashtable.PyObjectHashTable.get_item (pandas/hashtable.c:12359)\u001b[0;34m()\u001b[0m\n",
      "\u001b[0;31mKeyError\u001b[0m: 'Desc'",
      "\nDuring handling of the above exception, another exception occurred:\n",
      "\u001b[0;31mKeyError\u001b[0m                                  Traceback (most recent call last)",
      "\u001b[0;32m<ipython-input-29-6270a1f3decf>\u001b[0m in \u001b[0;36m<module>\u001b[0;34m()\u001b[0m\n\u001b[1;32m     15\u001b[0m \u001b[0manswer_array\u001b[0m \u001b[0;34m=\u001b[0m \u001b[0mnp\u001b[0m\u001b[0;34m.\u001b[0m\u001b[0marray\u001b[0m\u001b[0;34m(\u001b[0m\u001b[0;34m[\u001b[0m\u001b[0;36m1\u001b[0m\u001b[0;34m,\u001b[0m\u001b[0;36m1\u001b[0m\u001b[0;34m,\u001b[0m\u001b[0;36m0\u001b[0m\u001b[0;34m,\u001b[0m\u001b[0;36m0\u001b[0m\u001b[0;34m,\u001b[0m\u001b[0;36m0\u001b[0m\u001b[0;34m,\u001b[0m\u001b[0;36m0\u001b[0m\u001b[0;34m,\u001b[0m\u001b[0;36m0\u001b[0m\u001b[0;34m,\u001b[0m\u001b[0;36m1\u001b[0m\u001b[0;34m,\u001b[0m\u001b[0;36m0\u001b[0m\u001b[0;34m,\u001b[0m\u001b[0;36m0\u001b[0m\u001b[0;34m,\u001b[0m\u001b[0;36m0\u001b[0m\u001b[0;34m,\u001b[0m\u001b[0;36m1\u001b[0m\u001b[0;34m,\u001b[0m\u001b[0;36m1\u001b[0m\u001b[0;34m,\u001b[0m\u001b[0;36m1\u001b[0m\u001b[0;34m,\u001b[0m\u001b[0;36m1\u001b[0m\u001b[0;34m]\u001b[0m\u001b[0;34m)\u001b[0m\u001b[0;34m\u001b[0m\u001b[0m\n\u001b[1;32m     16\u001b[0m \u001b[0mtest_answer_array\u001b[0m \u001b[0;34m=\u001b[0m \u001b[0mnp\u001b[0m\u001b[0;34m.\u001b[0m\u001b[0marray\u001b[0m\u001b[0;34m(\u001b[0m\u001b[0;34m[\u001b[0m\u001b[0;36m0\u001b[0m\u001b[0;34m,\u001b[0m\u001b[0;36m0\u001b[0m\u001b[0;34m,\u001b[0m\u001b[0;36m0\u001b[0m\u001b[0;34m,\u001b[0m\u001b[0;36m1\u001b[0m\u001b[0;34m,\u001b[0m\u001b[0;36m1\u001b[0m\u001b[0;34m,\u001b[0m\u001b[0;36m0\u001b[0m\u001b[0;34m]\u001b[0m\u001b[0;34m)\u001b[0m\u001b[0;34m\u001b[0m\u001b[0m\n\u001b[0;32m---> 17\u001b[0;31m \u001b[0mtrain_features\u001b[0m \u001b[0;34m=\u001b[0m \u001b[0mvectorizer\u001b[0m\u001b[0;34m.\u001b[0m\u001b[0mfit_transform\u001b[0m\u001b[0;34m(\u001b[0m\u001b[0mnaive_df\u001b[0m\u001b[0;34m[\u001b[0m\u001b[0;34m'Desc'\u001b[0m\u001b[0;34m]\u001b[0m\u001b[0;34m[\u001b[0m\u001b[0;36m0\u001b[0m\u001b[0;34m:\u001b[0m\u001b[0;36m15\u001b[0m\u001b[0;34m]\u001b[0m\u001b[0;34m)\u001b[0m\u001b[0;34m\u001b[0m\u001b[0m\n\u001b[0m\u001b[1;32m     18\u001b[0m \u001b[0mtest_features\u001b[0m \u001b[0;34m=\u001b[0m \u001b[0mvectorizer\u001b[0m\u001b[0;34m.\u001b[0m\u001b[0mtransform\u001b[0m\u001b[0;34m(\u001b[0m\u001b[0mnaive_df\u001b[0m\u001b[0;34m[\u001b[0m\u001b[0;34m'Desc'\u001b[0m\u001b[0;34m]\u001b[0m\u001b[0;34m[\u001b[0m\u001b[0;36m15\u001b[0m\u001b[0;34m:\u001b[0m\u001b[0;36m21\u001b[0m\u001b[0;34m]\u001b[0m\u001b[0;34m)\u001b[0m\u001b[0;34m\u001b[0m\u001b[0m\n\u001b[1;32m     19\u001b[0m \u001b[0;34m\u001b[0m\u001b[0m\n",
      "\u001b[0;32m/Users/Hayw1re/Applications/anaconda3/lib/python3.5/site-packages/pandas/core/frame.py\u001b[0m in \u001b[0;36m__getitem__\u001b[0;34m(self, key)\u001b[0m\n\u001b[1;32m   1990\u001b[0m             \u001b[0;32mreturn\u001b[0m \u001b[0mself\u001b[0m\u001b[0;34m.\u001b[0m\u001b[0m_getitem_multilevel\u001b[0m\u001b[0;34m(\u001b[0m\u001b[0mkey\u001b[0m\u001b[0;34m)\u001b[0m\u001b[0;34m\u001b[0m\u001b[0m\n\u001b[1;32m   1991\u001b[0m         \u001b[0;32melse\u001b[0m\u001b[0;34m:\u001b[0m\u001b[0;34m\u001b[0m\u001b[0m\n\u001b[0;32m-> 1992\u001b[0;31m             \u001b[0;32mreturn\u001b[0m \u001b[0mself\u001b[0m\u001b[0;34m.\u001b[0m\u001b[0m_getitem_column\u001b[0m\u001b[0;34m(\u001b[0m\u001b[0mkey\u001b[0m\u001b[0;34m)\u001b[0m\u001b[0;34m\u001b[0m\u001b[0m\n\u001b[0m\u001b[1;32m   1993\u001b[0m \u001b[0;34m\u001b[0m\u001b[0m\n\u001b[1;32m   1994\u001b[0m     \u001b[0;32mdef\u001b[0m \u001b[0m_getitem_column\u001b[0m\u001b[0;34m(\u001b[0m\u001b[0mself\u001b[0m\u001b[0;34m,\u001b[0m \u001b[0mkey\u001b[0m\u001b[0;34m)\u001b[0m\u001b[0;34m:\u001b[0m\u001b[0;34m\u001b[0m\u001b[0m\n",
      "\u001b[0;32m/Users/Hayw1re/Applications/anaconda3/lib/python3.5/site-packages/pandas/core/frame.py\u001b[0m in \u001b[0;36m_getitem_column\u001b[0;34m(self, key)\u001b[0m\n\u001b[1;32m   1997\u001b[0m         \u001b[0;31m# get column\u001b[0m\u001b[0;34m\u001b[0m\u001b[0;34m\u001b[0m\u001b[0m\n\u001b[1;32m   1998\u001b[0m         \u001b[0;32mif\u001b[0m \u001b[0mself\u001b[0m\u001b[0;34m.\u001b[0m\u001b[0mcolumns\u001b[0m\u001b[0;34m.\u001b[0m\u001b[0mis_unique\u001b[0m\u001b[0;34m:\u001b[0m\u001b[0;34m\u001b[0m\u001b[0m\n\u001b[0;32m-> 1999\u001b[0;31m             \u001b[0;32mreturn\u001b[0m \u001b[0mself\u001b[0m\u001b[0;34m.\u001b[0m\u001b[0m_get_item_cache\u001b[0m\u001b[0;34m(\u001b[0m\u001b[0mkey\u001b[0m\u001b[0;34m)\u001b[0m\u001b[0;34m\u001b[0m\u001b[0m\n\u001b[0m\u001b[1;32m   2000\u001b[0m \u001b[0;34m\u001b[0m\u001b[0m\n\u001b[1;32m   2001\u001b[0m         \u001b[0;31m# duplicate columns & possible reduce dimensionality\u001b[0m\u001b[0;34m\u001b[0m\u001b[0;34m\u001b[0m\u001b[0m\n",
      "\u001b[0;32m/Users/Hayw1re/Applications/anaconda3/lib/python3.5/site-packages/pandas/core/generic.py\u001b[0m in \u001b[0;36m_get_item_cache\u001b[0;34m(self, item)\u001b[0m\n\u001b[1;32m   1343\u001b[0m         \u001b[0mres\u001b[0m \u001b[0;34m=\u001b[0m \u001b[0mcache\u001b[0m\u001b[0;34m.\u001b[0m\u001b[0mget\u001b[0m\u001b[0;34m(\u001b[0m\u001b[0mitem\u001b[0m\u001b[0;34m)\u001b[0m\u001b[0;34m\u001b[0m\u001b[0m\n\u001b[1;32m   1344\u001b[0m         \u001b[0;32mif\u001b[0m \u001b[0mres\u001b[0m \u001b[0;32mis\u001b[0m \u001b[0;32mNone\u001b[0m\u001b[0;34m:\u001b[0m\u001b[0;34m\u001b[0m\u001b[0m\n\u001b[0;32m-> 1345\u001b[0;31m             \u001b[0mvalues\u001b[0m \u001b[0;34m=\u001b[0m \u001b[0mself\u001b[0m\u001b[0;34m.\u001b[0m\u001b[0m_data\u001b[0m\u001b[0;34m.\u001b[0m\u001b[0mget\u001b[0m\u001b[0;34m(\u001b[0m\u001b[0mitem\u001b[0m\u001b[0;34m)\u001b[0m\u001b[0;34m\u001b[0m\u001b[0m\n\u001b[0m\u001b[1;32m   1346\u001b[0m             \u001b[0mres\u001b[0m \u001b[0;34m=\u001b[0m \u001b[0mself\u001b[0m\u001b[0;34m.\u001b[0m\u001b[0m_box_item_values\u001b[0m\u001b[0;34m(\u001b[0m\u001b[0mitem\u001b[0m\u001b[0;34m,\u001b[0m \u001b[0mvalues\u001b[0m\u001b[0;34m)\u001b[0m\u001b[0;34m\u001b[0m\u001b[0m\n\u001b[1;32m   1347\u001b[0m             \u001b[0mcache\u001b[0m\u001b[0;34m[\u001b[0m\u001b[0mitem\u001b[0m\u001b[0;34m]\u001b[0m \u001b[0;34m=\u001b[0m \u001b[0mres\u001b[0m\u001b[0;34m\u001b[0m\u001b[0m\n",
      "\u001b[0;32m/Users/Hayw1re/Applications/anaconda3/lib/python3.5/site-packages/pandas/core/internals.py\u001b[0m in \u001b[0;36mget\u001b[0;34m(self, item, fastpath)\u001b[0m\n\u001b[1;32m   3223\u001b[0m \u001b[0;34m\u001b[0m\u001b[0m\n\u001b[1;32m   3224\u001b[0m             \u001b[0;32mif\u001b[0m \u001b[0;32mnot\u001b[0m \u001b[0misnull\u001b[0m\u001b[0;34m(\u001b[0m\u001b[0mitem\u001b[0m\u001b[0;34m)\u001b[0m\u001b[0;34m:\u001b[0m\u001b[0;34m\u001b[0m\u001b[0m\n\u001b[0;32m-> 3225\u001b[0;31m                 \u001b[0mloc\u001b[0m \u001b[0;34m=\u001b[0m \u001b[0mself\u001b[0m\u001b[0;34m.\u001b[0m\u001b[0mitems\u001b[0m\u001b[0;34m.\u001b[0m\u001b[0mget_loc\u001b[0m\u001b[0;34m(\u001b[0m\u001b[0mitem\u001b[0m\u001b[0;34m)\u001b[0m\u001b[0;34m\u001b[0m\u001b[0m\n\u001b[0m\u001b[1;32m   3226\u001b[0m             \u001b[0;32melse\u001b[0m\u001b[0;34m:\u001b[0m\u001b[0;34m\u001b[0m\u001b[0m\n\u001b[1;32m   3227\u001b[0m                 \u001b[0mindexer\u001b[0m \u001b[0;34m=\u001b[0m \u001b[0mnp\u001b[0m\u001b[0;34m.\u001b[0m\u001b[0marange\u001b[0m\u001b[0;34m(\u001b[0m\u001b[0mlen\u001b[0m\u001b[0;34m(\u001b[0m\u001b[0mself\u001b[0m\u001b[0;34m.\u001b[0m\u001b[0mitems\u001b[0m\u001b[0;34m)\u001b[0m\u001b[0;34m)\u001b[0m\u001b[0;34m[\u001b[0m\u001b[0misnull\u001b[0m\u001b[0;34m(\u001b[0m\u001b[0mself\u001b[0m\u001b[0;34m.\u001b[0m\u001b[0mitems\u001b[0m\u001b[0;34m)\u001b[0m\u001b[0;34m]\u001b[0m\u001b[0;34m\u001b[0m\u001b[0m\n",
      "\u001b[0;32m/Users/Hayw1re/Applications/anaconda3/lib/python3.5/site-packages/pandas/indexes/base.py\u001b[0m in \u001b[0;36mget_loc\u001b[0;34m(self, key, method, tolerance)\u001b[0m\n\u001b[1;32m   1876\u001b[0m                 \u001b[0;32mreturn\u001b[0m \u001b[0mself\u001b[0m\u001b[0;34m.\u001b[0m\u001b[0m_engine\u001b[0m\u001b[0;34m.\u001b[0m\u001b[0mget_loc\u001b[0m\u001b[0;34m(\u001b[0m\u001b[0mkey\u001b[0m\u001b[0;34m)\u001b[0m\u001b[0;34m\u001b[0m\u001b[0m\n\u001b[1;32m   1877\u001b[0m             \u001b[0;32mexcept\u001b[0m \u001b[0mKeyError\u001b[0m\u001b[0;34m:\u001b[0m\u001b[0;34m\u001b[0m\u001b[0m\n\u001b[0;32m-> 1878\u001b[0;31m                 \u001b[0;32mreturn\u001b[0m \u001b[0mself\u001b[0m\u001b[0;34m.\u001b[0m\u001b[0m_engine\u001b[0m\u001b[0;34m.\u001b[0m\u001b[0mget_loc\u001b[0m\u001b[0;34m(\u001b[0m\u001b[0mself\u001b[0m\u001b[0;34m.\u001b[0m\u001b[0m_maybe_cast_indexer\u001b[0m\u001b[0;34m(\u001b[0m\u001b[0mkey\u001b[0m\u001b[0;34m)\u001b[0m\u001b[0;34m)\u001b[0m\u001b[0;34m\u001b[0m\u001b[0m\n\u001b[0m\u001b[1;32m   1879\u001b[0m \u001b[0;34m\u001b[0m\u001b[0m\n\u001b[1;32m   1880\u001b[0m         \u001b[0mindexer\u001b[0m \u001b[0;34m=\u001b[0m \u001b[0mself\u001b[0m\u001b[0;34m.\u001b[0m\u001b[0mget_indexer\u001b[0m\u001b[0;34m(\u001b[0m\u001b[0;34m[\u001b[0m\u001b[0mkey\u001b[0m\u001b[0;34m]\u001b[0m\u001b[0;34m,\u001b[0m \u001b[0mmethod\u001b[0m\u001b[0;34m=\u001b[0m\u001b[0mmethod\u001b[0m\u001b[0;34m,\u001b[0m \u001b[0mtolerance\u001b[0m\u001b[0;34m=\u001b[0m\u001b[0mtolerance\u001b[0m\u001b[0;34m)\u001b[0m\u001b[0;34m\u001b[0m\u001b[0m\n",
      "\u001b[0;32mpandas/index.pyx\u001b[0m in \u001b[0;36mpandas.index.IndexEngine.get_loc (pandas/index.c:4027)\u001b[0;34m()\u001b[0m\n",
      "\u001b[0;32mpandas/index.pyx\u001b[0m in \u001b[0;36mpandas.index.IndexEngine.get_loc (pandas/index.c:3891)\u001b[0;34m()\u001b[0m\n",
      "\u001b[0;32mpandas/hashtable.pyx\u001b[0m in \u001b[0;36mpandas.hashtable.PyObjectHashTable.get_item (pandas/hashtable.c:12408)\u001b[0;34m()\u001b[0m\n",
      "\u001b[0;32mpandas/hashtable.pyx\u001b[0m in \u001b[0;36mpandas.hashtable.PyObjectHashTable.get_item (pandas/hashtable.c:12359)\u001b[0;34m()\u001b[0m\n",
      "\u001b[0;31mKeyError\u001b[0m: 'Desc'"
     ]
    }
   ],
   "source": [
    "# from nltk.stem.porter import *\n",
    "\n",
    "# pogchamp in or out?\n",
    "stop = stopwords.words('english')\n",
    "stop += ['.', ',', '(', ')', \"'\", '\"', '']\n",
    "\n",
    "# Generate counts from text using a vectorizer.  There are other vectorizers available, and lots of options you can set.\n",
    "# This performs our step of computing word counts.\n",
    "vectorizer = CountVectorizer(stop_words='english')\n",
    "\n",
    "naive_df = all_details_df\n",
    "naive_df[0:15]\n",
    "\n",
    "answer_array = np.array([1,1,0,0,0,0,0,1,0,0,0,1,1,1,1])\n",
    "test_answer_array = np.array([0,0,0,1,1,0])\n",
    "train_features = vectorizer.fit_transform(naive_df['Desc'][0:15])\n",
    "test_features = vectorizer.transform(naive_df['Desc'][15:21])\n",
    "\n",
    "nb = MultinomialNB()\n",
    "nb.fit(train_features, answer_array)\n",
    "\n",
    "# Require that each sample and it's label be correctly predicted.\n",
    "print('Score:', nb.score(test_features, test_answer_array))\n",
    "\n",
    "predictions = nb.predict(test_features)\n",
    "\n",
    "fpr, tpr, thresholds = metrics.roc_curve(test_answer_array, predictions, pos_label=1)\n",
    "print(\"Multinomial naive bayes AUC: {0}\".format(metrics.auc(fpr, tpr)))"
   ]
  },
  {
   "cell_type": "code",
   "execution_count": 23,
   "metadata": {
    "collapsed": false
   },
   "outputs": [
    {
     "ename": "NameError",
     "evalue": "name 'stop' is not defined",
     "output_type": "error",
     "traceback": [
      "\u001b[0;31m---------------------------------------------------------------------------\u001b[0m",
      "\u001b[0;31mNameError\u001b[0m                                 Traceback (most recent call last)",
      "\u001b[0;32m<ipython-input-23-b8299cbd59c3>\u001b[0m in \u001b[0;36m<module>\u001b[0;34m()\u001b[0m\n\u001b[1;32m      1\u001b[0m \u001b[0;31m# Run countvectorizer\u001b[0m\u001b[0;34m\u001b[0m\u001b[0;34m\u001b[0m\u001b[0m\n\u001b[0;32m----> 2\u001b[0;31m \u001b[0mvectorizer\u001b[0m \u001b[0;34m=\u001b[0m \u001b[0mCountVectorizer\u001b[0m\u001b[0;34m(\u001b[0m\u001b[0mmin_df\u001b[0m \u001b[0;34m=\u001b[0m \u001b[0;36m1\u001b[0m\u001b[0;34m,\u001b[0m \u001b[0mstop_words\u001b[0m \u001b[0;34m=\u001b[0m \u001b[0mstop\u001b[0m\u001b[0;34m)\u001b[0m\u001b[0;34m\u001b[0m\u001b[0m\n\u001b[0m\u001b[1;32m      3\u001b[0m \u001b[0;34m\u001b[0m\u001b[0m\n\u001b[1;32m      4\u001b[0m \u001b[0;31m#Creates a spare matrix\u001b[0m\u001b[0;34m\u001b[0m\u001b[0;34m\u001b[0m\u001b[0m\n\u001b[1;32m      5\u001b[0m \u001b[0mdtm\u001b[0m \u001b[0;34m=\u001b[0m \u001b[0mvectorizer\u001b[0m\u001b[0;34m.\u001b[0m\u001b[0mfit_transform\u001b[0m\u001b[0;34m(\u001b[0m\u001b[0mnaive_df\u001b[0m\u001b[0;34m[\u001b[0m\u001b[0;34m'Desc'\u001b[0m\u001b[0;34m]\u001b[0m\u001b[0;34m)\u001b[0m\u001b[0;34m\u001b[0m\u001b[0m\n",
      "\u001b[0;31mNameError\u001b[0m: name 'stop' is not defined"
     ]
    }
   ],
   "source": [
    "# Run countvectorizer\n",
    "vectorizer = CountVectorizer(min_df = 1, stop_words = stop)\n",
    "\n",
    "#Creates a spare matrix\n",
    "dtm = vectorizer.fit_transform(naive_df['Desc']) \n",
    "\n",
    "df = pd.DataFrame(dtm.toarray(), index=naive_df['Desc'], columns=vectorizer.get_feature_names())\n",
    "df"
   ]
  },
  {
   "cell_type": "code",
   "execution_count": null,
   "metadata": {
    "collapsed": false
   },
   "outputs": [],
   "source": [
    "a = str(naive_df['Title'].head(1))\n",
    "\n",
    "test = a.split()\n",
    "\n",
    "answer = [x.encode('unicode-escape') for  x in test]\n",
    "\n",
    "print(answer)\n"
   ]
  },
  {
   "cell_type": "code",
   "execution_count": 32,
   "metadata": {
    "collapsed": true
   },
   "outputs": [],
   "source": [
    "import wget"
   ]
  },
  {
   "cell_type": "code",
   "execution_count": 33,
   "metadata": {
    "collapsed": false
   },
   "outputs": [
    {
     "data": {
      "text/plain": [
       "'10356025'"
      ]
     },
     "execution_count": 33,
     "metadata": {},
     "output_type": "execute_result"
    }
   ],
   "source": [
    "wget.download(\"https://avatars0.githubusercontent.com/u/10356025?v=3&s=466\", out=\"Johnnob.png\")"
   ]
  },
  {
   "cell_type": "code",
   "execution_count": 34,
   "metadata": {
    "collapsed": true
   },
   "outputs": [],
   "source": [
    "!open ."
   ]
  },
  {
   "cell_type": "code",
   "execution_count": null,
   "metadata": {
    "collapsed": true
   },
   "outputs": [],
   "source": []
  }
 ],
 "metadata": {
  "kernelspec": {
   "display_name": "Python 3",
   "language": "python",
   "name": "python3"
  },
  "language_info": {
   "codemirror_mode": {
    "name": "ipython",
    "version": 3
   },
   "file_extension": ".py",
   "mimetype": "text/x-python",
   "name": "python",
   "nbconvert_exporter": "python",
   "pygments_lexer": "ipython3",
   "version": "3.5.2"
  }
 },
 "nbformat": 4,
 "nbformat_minor": 0
}
